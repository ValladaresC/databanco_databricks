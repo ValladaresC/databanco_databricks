{
 "cells": [
  {
   "cell_type": "markdown",
   "metadata": {
    "application/vnd.databricks.v1+cell": {
     "cellMetadata": {},
     "inputWidgets": {},
     "nuid": "a0eeb6e4-4e5d-4c64-a4ce-3d2fe35b8b2a",
     "showTitle": false,
     "tableResultSettingsMap": {},
     "title": ""
    }
   },
   "source": [
    "#####Invocando librerias y funciones necesarias"
   ]
  },
  {
   "cell_type": "code",
   "execution_count": 0,
   "metadata": {
    "application/vnd.databricks.v1+cell": {
     "cellMetadata": {
      "byteLimit": 2048000,
      "rowLimit": 10000
     },
     "inputWidgets": {},
     "nuid": "3cff0dcc-bb95-45f6-8945-37c555b9e02e",
     "showTitle": false,
     "tableResultSettingsMap": {},
     "title": ""
    }
   },
   "outputs": [],
   "source": [
    "from pyspark.sql.functions import col, lit, struct, current_timestamp, current_date\n",
    "from pyspark.sql.types import StructType, StructField, StringType, IntegerType, DoubleType, BooleanType"
   ]
  },
  {
   "cell_type": "markdown",
   "metadata": {
    "application/vnd.databricks.v1+cell": {
     "cellMetadata": {},
     "inputWidgets": {},
     "nuid": "1015084e-4d8b-4c9f-b8c9-bbbe9909100e",
     "showTitle": false,
     "tableResultSettingsMap": {},
     "title": ""
    }
   },
   "source": [
    "#####Leyendo archivos .json de las carpetas del DBFS"
   ]
  },
  {
   "cell_type": "code",
   "execution_count": 0,
   "metadata": {
    "application/vnd.databricks.v1+cell": {
     "cellMetadata": {
      "byteLimit": 2048000,
      "rowLimit": 10000
     },
     "inputWidgets": {},
     "nuid": "cf4f93e5-84f6-404d-af41-073c34d11953",
     "showTitle": false,
     "tableResultSettingsMap": {},
     "title": ""
    }
   },
   "outputs": [],
   "source": [
    "app_df = spark.read.json(\"/temp/trx_app/*.json\")\n",
    "web_df = spark.read.json(\"/temp/trx_web/*.json\")\n",
    "atm_df = spark.read.json(\"/temp/trx_atm/*.json\")"
   ]
  },
  {
   "cell_type": "markdown",
   "metadata": {
    "application/vnd.databricks.v1+cell": {
     "cellMetadata": {},
     "inputWidgets": {},
     "nuid": "a782ec19-ddfe-4a52-8bd0-da87b810951b",
     "showTitle": false,
     "tableResultSettingsMap": {},
     "title": ""
    }
   },
   "source": [
    "#####Reestructurando la información contenida en cada archivo .json para que tengan las misma  \n",
    "#####estructura y luego poder unirlos en un solo dataframe"
   ]
  },
  {
   "cell_type": "code",
   "execution_count": 0,
   "metadata": {
    "application/vnd.databricks.v1+cell": {
     "cellMetadata": {
      "byteLimit": 2048000,
      "rowLimit": 10000
     },
     "inputWidgets": {},
     "nuid": "6775d005-67bd-4247-82b3-d6e5ed3f4377",
     "showTitle": false,
     "tableResultSettingsMap": {},
     "title": ""
    }
   },
   "outputs": [],
   "source": [
    "app_df_agg = app_df.withColumn(\"transaccion\",col(\"transaccion\").withField(\n",
    "                                                                \"detalles_web\",struct(\n",
    "                                                                    lit(\"\").cast(\"string\").alias(\"ip_origen\"),\n",
    "                                                                    lit(\"\").cast(\"string\").alias(\"navegador\"),\n",
    "                                                                    lit(\"\").cast(\"string\").alias(\"dispositivo_web\")         \n",
    "                                                                    )\n",
    "                                                                )\n",
    "                    ) \\\n",
    "                    .withColumn(\"transaccion\",col(\"transaccion\").withField(\n",
    "                                                                \"ubicacion_atm\",struct(\n",
    "                                                                    lit(\"\").cast(\"string\").alias(\"ciudad\"), \n",
    "                                                                    lit(\"\").cast(\"string\").alias(\"direccion\"),\n",
    "                                                                    lit(\"\").cast(\"string\").alias(\"codigo_atm\")\n",
    "                                                                    )\n",
    "                                                                )\n",
    "                    ) \\\n",
    "                    .withColumn(\"transaccion\",col(\"transaccion\").withField(\n",
    "                                                                \"tarjeta\",struct(\n",
    "                                                                    lit(\"\").cast(\"string\").alias(\"numero_tarjeta\"),\n",
    "                                                                    lit(\"\").cast(\"string\").alias(\"titular_atm\")\n",
    "                                                                    )\n",
    "                                                                )\n",
    "                    ) \\\n",
    "                    .withColumn(\"transaccion\",col(\"transaccion\").withField(\n",
    "                                                                \"autenticacion\",struct(\n",
    "                                                                    col(\"transaccion.autenticacion.metodo\"),\n",
    "                                                                    col(\"transaccion.autenticacion.exitoso\"),\n",
    "                                                                    lit(\"\").cast(\"string\").alias(\"codigo_enviado\")\n",
    "                                                                    )\n",
    "                                                                )\n",
    "\n",
    "                    ) \n",
    "\n",
    "web_df_agg = web_df.withColumn(\"transaccion\", col(\"transaccion\").withField(\n",
    "                                                                \"detalles_app\",struct(\n",
    "                                                                    lit(\"\").cast(\"string\").alias(\"dispositivo_app\"),\n",
    "                                                                    lit(\"\").cast(\"string\").alias(\"sistema_operativo\"),\n",
    "                                                                    lit(\"\").cast(\"string\").alias(\"version_app\")\n",
    "                                                                    )\n",
    "                                                                )\n",
    "                    ) \\\n",
    "                    .withColumn(\"transaccion\", col(\"transaccion\").withField(\n",
    "                                                                \"ubicacion\",struct(\n",
    "                                                                    lit(\"\").cast(\"double\").alias(\"latitud\"),\n",
    "                                                                    lit(\"\").cast(\"double\").alias(\"longitud\")\n",
    "                                                                    )\n",
    "                                                                )\n",
    "                    ) \\\n",
    "                    .withColumn(\"transaccion\",col(\"transaccion\").withField(\n",
    "                                                                \"ubicacion_atm\",struct(\n",
    "                                                                    lit(\"\").cast(\"string\").alias(\"ciudad\"), \n",
    "                                                                    lit(\"\").cast(\"string\").alias(\"direccion\"),\n",
    "                                                                    lit(\"\").cast(\"string\").alias(\"codigo_atm\")\n",
    "                                                                    )\n",
    "                                                                )\n",
    "                    ) \\\n",
    "                    .withColumn(\"transaccion\",col(\"transaccion\").withField(\n",
    "                                                                \"tarjeta\",struct(\n",
    "                                                                    lit(\"\").cast(\"string\").alias(\"numero_tarjeta\"),\n",
    "                                                                    lit(\"\").cast(\"string\").alias(\"titular_atm\")\n",
    "                                                                    )\n",
    "                                                                )\n",
    "                    ) \\\n",
    "                    .withColumn(\"transaccion\",col(\"transaccion\").withField(\n",
    "                                                                \"autenticacion\",struct(\n",
    "                                                                    col(\"transaccion.autenticacion.metodo\"),\n",
    "                                                                    col(\"transaccion.autenticacion.codigo_enviado\"),\n",
    "                                                                    lit(\"\").cast(\"string\").alias(\"exitoso\")\n",
    "                                                                    )\n",
    "                                                                )\n",
    "                    )\n",
    "\n",
    "atm_df_agg = atm_df.withColumn(\"transaccion\", col(\"transaccion\").withField(\n",
    "                                                                \"detalles_app\",struct(\n",
    "                                                                    lit(\"\").cast(\"string\").alias(\"dispositivo_app\"),\n",
    "                                                                    lit(\"\").cast(\"string\").alias(\"sistema_operativo\"),\n",
    "                                                                    lit(\"\").cast(\"string\").alias(\"version_app\")\n",
    "                                                                    )\n",
    "                                                                )\n",
    "                    ) \\\n",
    "                    .withColumn(\"transaccion\",col(\"transaccion\").withField(\n",
    "                                                                \"detalles_web\",struct(\n",
    "                                                                    lit(\"\").cast(\"string\").alias(\"ip_origen\"),\n",
    "                                                                    lit(\"\").cast(\"string\").alias(\"navegador\"),\n",
    "                                                                    lit(\"\").cast(\"string\").alias(\"dispositivo_web\")         \n",
    "                                                                    )\n",
    "                                                                )\n",
    "                    ) \\\n",
    "                    .withColumn(\"transaccion\", col(\"transaccion\").withField(\n",
    "                                                                \"ubicacion\",struct(\n",
    "                                                                    lit(\"\").cast(\"double\").alias(\"latitud\"),\n",
    "                                                                    lit(\"\").cast(\"double\").alias(\"longitud\")\n",
    "                                                                    )\n",
    "                                                                )\n",
    "                    ) \\\n",
    "                    .withColumn(\"transaccion\", col(\"transaccion\").withField(\n",
    "                                                                \"autenticacion\",struct(\n",
    "                                                                    lit(\"\").cast(\"string\").alias(\"metodo\"),\n",
    "                                                                    lit(\"\").cast(\"string\").alias(\"exitoso\"),\n",
    "                                                                    lit(\"\").cast(\"string\").alias(\"codigo_enviado\")\n",
    "                                                                    )\n",
    "                                                                )\n",
    "                    ) \\\n",
    "                    .withColumn(\"transaccion\", col(\"transaccion\").withField(\n",
    "                                                                \"cuenta_destino_app\",struct(\n",
    "                                                                    lit(\"\").cast(\"string\").alias(\"numero_cuenta_app\"),\n",
    "                                                                    lit(\"\").cast(\"string\").alias(\"banco_app\"),\n",
    "                                                                    lit(\"\").cast(\"string\").alias(\"titular_app\")\n",
    "                                                                    )\n",
    "                                                                )\n",
    "                    ) \\\n",
    "                    .withColumn(\"transaccion\", col(\"transaccion\").withField(\n",
    "                                                                \"cuenta_destino_web\",struct(\n",
    "                                                                    lit(\"\").cast(\"string\").alias(\"numero_cuenta_app\"),\n",
    "                                                                    lit(\"\").cast(\"string\").alias(\"banco_app\"),\n",
    "                                                                    lit(\"\").cast(\"string\").alias(\"titular_app\")\n",
    "                                                                    )\n",
    "                                                                )\n",
    "                    )\n"
   ]
  },
  {
   "cell_type": "markdown",
   "metadata": {
    "application/vnd.databricks.v1+cell": {
     "cellMetadata": {},
     "inputWidgets": {},
     "nuid": "6b9f8111-41c6-4e66-bfc6-32f4367d7854",
     "showTitle": false,
     "tableResultSettingsMap": {},
     "title": ""
    }
   },
   "source": [
    "#####Uniendo los dataframe de las diferentes transacciones"
   ]
  },
  {
   "cell_type": "code",
   "execution_count": 0,
   "metadata": {
    "application/vnd.databricks.v1+cell": {
     "cellMetadata": {
      "byteLimit": 2048000,
      "rowLimit": 10000
     },
     "inputWidgets": {},
     "nuid": "4c2c601b-6e70-43c9-a13e-6f1473218861",
     "showTitle": false,
     "tableResultSettingsMap": {},
     "title": ""
    }
   },
   "outputs": [],
   "source": [
    "trx_bronze_df = app_df_agg.unionByName(web_df_agg, allowMissingColumns=True) \\\n",
    "                          .unionByName(atm_df_agg, allowMissingColumns=True)"
   ]
  },
  {
   "cell_type": "markdown",
   "metadata": {
    "application/vnd.databricks.v1+cell": {
     "cellMetadata": {},
     "inputWidgets": {},
     "nuid": "b9a83661-ebd5-4719-98a7-585c76a0517c",
     "showTitle": false,
     "tableResultSettingsMap": {},
     "title": ""
    }
   },
   "source": [
    "#####Agregando las columnas fecha_auditoria y timestamp_auditoria al dataframe generado"
   ]
  },
  {
   "cell_type": "code",
   "execution_count": 0,
   "metadata": {
    "application/vnd.databricks.v1+cell": {
     "cellMetadata": {
      "byteLimit": 2048000,
      "rowLimit": 10000
     },
     "inputWidgets": {},
     "nuid": "0fcc56d6-663e-4823-b713-3dc24e3ef304",
     "showTitle": false,
     "tableResultSettingsMap": {},
     "title": ""
    }
   },
   "outputs": [],
   "source": [
    "trx_bronze_df = trx_bronze_df.withColumn(\"fecha_auditoria\", current_date()) \\\n",
    "                            .withColumn(\"timestamp_auditoria\", current_timestamp())"
   ]
  },
  {
   "cell_type": "markdown",
   "metadata": {
    "application/vnd.databricks.v1+cell": {
     "cellMetadata": {},
     "inputWidgets": {},
     "nuid": "55fd1b11-663d-4adf-814e-2b680065e4fe",
     "showTitle": false,
     "tableResultSettingsMap": {},
     "title": ""
    }
   },
   "source": [
    "#####Generando la tabla delta trx_bronze"
   ]
  },
  {
   "cell_type": "code",
   "execution_count": 0,
   "metadata": {
    "application/vnd.databricks.v1+cell": {
     "cellMetadata": {
      "byteLimit": 2048000,
      "rowLimit": 10000
     },
     "inputWidgets": {},
     "nuid": "6be89310-dd8f-419a-ba17-3a8607296a02",
     "showTitle": false,
     "tableResultSettingsMap": {},
     "title": ""
    }
   },
   "outputs": [],
   "source": [
    "trx_bronze_df.write.format(\"delta\").mode(\"overwrite\").saveAsTable(\"catalgbanco.capabronze.trx_bronze\")"
   ]
  },
  {
   "cell_type": "markdown",
   "metadata": {
    "application/vnd.databricks.v1+cell": {
     "cellMetadata": {},
     "inputWidgets": {},
     "nuid": "75f36946-6dec-4274-af36-5f60f1e0dc44",
     "showTitle": false,
     "tableResultSettingsMap": {},
     "title": ""
    }
   },
   "source": [
    "#####Optimizando la tabla delta"
   ]
  },
  {
   "cell_type": "code",
   "execution_count": 0,
   "metadata": {
    "application/vnd.databricks.v1+cell": {
     "cellMetadata": {
      "byteLimit": 2048000,
      "rowLimit": 10000
     },
     "inputWidgets": {},
     "nuid": "0ba3bd2a-ba98-4a34-8d8c-8d8ca13421a2",
     "showTitle": false,
     "tableResultSettingsMap": {},
     "title": ""
    }
   },
   "outputs": [
    {
     "output_type": "execute_result",
     "data": {
      "text/plain": [
       "DataFrame[path: string, metrics: struct<numFilesAdded:bigint,numFilesRemoved:bigint,filesAdded:struct<min:bigint,max:bigint,avg:double,totalFiles:bigint,totalSize:bigint>,filesRemoved:struct<min:bigint,max:bigint,avg:double,totalFiles:bigint,totalSize:bigint>,partitionsOptimized:bigint,zOrderStats:struct<strategyName:string,inputCubeFiles:struct<num:bigint,size:bigint>,inputOtherFiles:struct<num:bigint,size:bigint>,inputNumCubes:bigint,mergedFiles:struct<num:bigint,size:bigint>,numOutputCubes:bigint,mergedNumCubes:bigint>,numBatches:bigint,totalConsideredFiles:bigint,totalFilesSkipped:bigint,preserveInsertionOrder:boolean,numFilesSkippedToReduceWriteAmplification:bigint,numBytesSkippedToReduceWriteAmplification:bigint,startTimeMs:bigint,endTimeMs:bigint,totalClusterParallelism:bigint,totalScheduledTasks:bigint,autoCompactParallelismStats:struct<maxClusterActiveParallelism:bigint,minClusterActiveParallelism:bigint,maxSessionActiveParallelism:bigint,minSessionActiveParallelism:bigint>,deletionVectorStats:struct<numDeletionVectorsRemoved:bigint,numDeletionVectorRowsRemoved:bigint>,numTableColumns:bigint,numTableColumnsWithStats:bigint,totalTaskExecutionTimeMs:bigint,skippedArchivedFiles:bigint,clusteringMetrics:struct<sizeOfTableInBytesBeforeLazyClustering:bigint,isNewMetadataCreated:boolean,isPOTriggered:boolean,numFilesSkippedWithoutStats:bigint,numFilesClassifiedToIntermediateNodes:bigint,sizeOfFilesClassifiedToIntermediateNodesInBytes:bigint,logicalSizeOfFilesClassifiedToIntermediateNodesInBytes:bigint,numFilesClassifiedToLeafNodes:bigint,sizeOfFilesClassifiedToLeafNodesInBytes:bigint,logicalSizeOfFilesClassifiedToLeafNodesInBytes:bigint,numThreadsForClassifier:int,clusterThresholdStrategy:string,minFileSize:bigint,maxFileSize:bigint,nodeMinNumFilesToCompact:bigint,numIdealFiles:bigint,numClusteringTasksPlanned:int,numCompactionTasksPlanned:int,numOptimizeBatchesPlanned:int,numLeafNodesExpanded:bigint,numLeafNodesClustered:bigint,numGetFilesForNodeCalls:bigint,numSamplingJobs:bigint,numLeafNodesCompacted:bigint,numIntermediateNodesCompacted:bigint,totalSizeOfDataToCompactInBytes:bigint,totalLogicalSizeOfDataToCompactInBytes:bigint,numIntermediateNodesClustered:bigint,numFilesSkippedAfterExpansion:bigint,totalSizeOfFilesSkippedAfterExpansionInBytes:bigint,totalLogicalSizeOfFilesSkippedAfterExpansionInBytes:bigint,totalSizeOfDataToRewriteInBytes:bigint,totalLogicalSizeOfDataToRewriteInBytes:bigint,timeMetrics:struct<classifierTimeMs:bigint,optimizerTimeMs:bigint,metadataLoadTimeMs:bigint,totalGetFilesForNodeCallsTimeMs:bigint,totalSamplingTimeMs:bigint,metadataCreationTimeMs:bigint>,maxOptimizeBatchesInParallel:bigint,currentIteration:int,maxIterations:int,clusteringStrategy:string>>]"
      ]
     },
     "execution_count": 8,
     "metadata": {},
     "output_type": "execute_result"
    }
   ],
   "source": [
    "spark.sql(\"OPTIMIZE catalgbanco.capabronze.trx_bronze\")"
   ]
  },
  {
   "cell_type": "markdown",
   "metadata": {
    "application/vnd.databricks.v1+cell": {
     "cellMetadata": {},
     "inputWidgets": {},
     "nuid": "f69979f0-11ae-4cbd-a5a9-10d05d908d46",
     "showTitle": false,
     "tableResultSettingsMap": {},
     "title": ""
    }
   },
   "source": [
    "####Moviendo todos los archivos .json a otra carpeta respaldo\n",
    "#####De esta manera quedaran vacias las carpetas en espera de otra ingesta de lotes de archivos\n",
    "#####y así solo se cargarán los nuevos archivos sin necesidad de cargar los anteriores"
   ]
  },
  {
   "cell_type": "code",
   "execution_count": 0,
   "metadata": {
    "application/vnd.databricks.v1+cell": {
     "cellMetadata": {},
     "inputWidgets": {},
     "nuid": "f4b65006-ffd3-46d1-ab70-b56a7975a989",
     "showTitle": false,
     "tableResultSettingsMap": {},
     "title": ""
    }
   },
   "outputs": [],
   "source": [
    "dbutils.fs.mv(\"dbfs:/temp/trx_app/*.json\", \"dbfs:/respaldo/trx_app\")\n",
    "dbutils.fs.mv(\"dbfs:/temp/trx_web/*.json\", \"dbfs:/respaldo/trx_web\")\n",
    "dbutils.fs.mv(\"dbfs:/temp/trx_atm/*.json\", \"dbfs:/respaldo/trx_atm\")"
   ]
  }
 ],
 "metadata": {
  "application/vnd.databricks.v1+notebook": {
   "computePreferences": null,
   "dashboards": [],
   "environmentMetadata": {
    "base_environment": "",
    "environment_version": "1"
   },
   "language": "python",
   "notebookMetadata": {
    "pythonIndentUnit": 4
   },
   "notebookName": "Notebook_Bronze",
   "widgets": {}
  },
  "language_info": {
   "name": "python"
  }
 },
 "nbformat": 4,
 "nbformat_minor": 0
}