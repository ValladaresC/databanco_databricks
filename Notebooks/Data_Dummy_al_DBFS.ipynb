{
 "cells": [
  {
   "cell_type": "code",
   "execution_count": 0,
   "metadata": {
    "application/vnd.databricks.v1+cell": {
     "cellMetadata": {
      "byteLimit": 2048000,
      "rowLimit": 10000
     },
     "inputWidgets": {},
     "nuid": "8e2942dc-690f-4473-8a8f-310d8bf2cc43",
     "showTitle": false,
     "tableResultSettingsMap": {},
     "title": ""
    }
   },
   "outputs": [],
   "source": [
    "from datetime import datetime, timedelta\n",
    "import random\n",
    "import json"
   ]
  },
  {
   "cell_type": "markdown",
   "metadata": {
    "application/vnd.databricks.v1+cell": {
     "cellMetadata": {},
     "inputWidgets": {},
     "nuid": "ac964dec-d127-414e-8ee9-ad99a1d7982c",
     "showTitle": false,
     "tableResultSettingsMap": {},
     "title": ""
    }
   },
   "source": [
    "######Función para generar fechas aleatorias dentro de un rango de 30 dias hacia atras desde la fecha actual\n",
    "######Función para generar id aleatorios"
   ]
  },
  {
   "cell_type": "code",
   "execution_count": 0,
   "metadata": {
    "application/vnd.databricks.v1+cell": {
     "cellMetadata": {
      "byteLimit": 2048000,
      "rowLimit": 10000
     },
     "inputWidgets": {},
     "nuid": "d52f0af5-da19-4937-a0d5-f255aaecbadd",
     "showTitle": false,
     "tableResultSettingsMap": {},
     "title": ""
    }
   },
   "outputs": [],
   "source": [
    "def random_date():\n",
    "    start_date = datetime.now() - timedelta(days=30)\n",
    "    end_date = datetime.now()\n",
    "    return start_date + timedelta(seconds=random.randint(0, int((end_date - start_date).total_seconds())))\n",
    "\n",
    "def generate_id_random():\n",
    "    return str(random.randint(100000000, 999999999))"
   ]
  },
  {
   "cell_type": "markdown",
   "metadata": {
    "application/vnd.databricks.v1+cell": {
     "cellMetadata": {},
     "inputWidgets": {},
     "nuid": "98af62f2-ca99-42af-8bea-542894fb8d46",
     "showTitle": false,
     "tableResultSettingsMap": {},
     "title": ""
    }
   },
   "source": [
    "######Función para generar datos en formato json, considerando variar solo algunos campos"
   ]
  },
  {
   "cell_type": "code",
   "execution_count": 0,
   "metadata": {
    "application/vnd.databricks.v1+cell": {
     "cellMetadata": {
      "byteLimit": 2048000,
      "rowLimit": 10000
     },
     "inputWidgets": {},
     "nuid": "dfa6447a-1471-4128-8755-a5465a48d24e",
     "showTitle": false,
     "tableResultSettingsMap": {},
     "title": ""
    }
   },
   "outputs": [],
   "source": [
    "def generate_app_data():\n",
    "    return {\n",
    "        \"transaccion\": {\n",
    "            \"id_transaccion\": generate_id_random(),\n",
    "            \"fecha\": random_date().isoformat() + \"Z\",\n",
    "            \"tipo\": \"Pago\",\n",
    "            \"monto\": round(random.uniform(10, 5000),2),\n",
    "            \"moneda\": \"USD\",\n",
    "            \"estado\": \"Completada\",\n",
    "            \"descripcion\": random.choice([\"Pago en tienda\", \"Pago de servicios\"]),\n",
    "            \"canal\": \"App\",\n",
    "            \"detalles_app\": {\n",
    "                \"dispositivo_app\": random.choice([\"iPhone 14\", \"Samsung Galaxy S21\"]),\n",
    "                \"sistema_operativo\": \"xxx\",\n",
    "                \"version_app\": \"5.3.2\"\n",
    "            },\n",
    "            \"ubicacion\": {\n",
    "                \"latitud\": round(random.uniform(-90, 90), 6),\n",
    "                \"longitud\": round(random.uniform(-180, 180), 6)\n",
    "            },\n",
    "            \"autenticacion\": {\n",
    "                \"metodo\": \"Biometría\",\n",
    "                \"exitoso\": \"true\"\n",
    "            },\n",
    "            \"cuenta_destino_app\": {\n",
    "                \"numero_cuenta_app\": \"8765432109\",\n",
    "                \"banco_app\": \"Banco Comercio\",\n",
    "                \"titular_app\": \"Tienda Ejemplo\"\n",
    "            }\n",
    "        }\n",
    "    }\n",
    "\n",
    "def generate_web_data():\n",
    "    return {\n",
    "        \"transaccion\": {\n",
    "            \"id_transaccion\": generate_id_random(),\n",
    "            \"fecha\": random_date().isoformat() + \"Z\",\n",
    "            \"tipo\": \"Transferencia\",\n",
    "            \"monto\": round(random.uniform(10, 5000),2),\n",
    "            \"moneda\": \"USD\",\n",
    "            \"estado\": \"Completada\",\n",
    "            \"descripcion\": random.choice([\"Transferencia entre cuentas propias\", \"Transferencia a terceros en el banco\", \"Transferencia a terceros en otro banco\"]),\n",
    "            \"canal\": \"Web\",\n",
    "            \"detalles_web\": {\n",
    "                \"ip_origen\": \"192.168.1.10\",\n",
    "                \"navegador\": \"Chrome\",\n",
    "                \"dispositivo_web\": \"PC\"\n",
    "            },\n",
    "            \"autenticacion\": {\n",
    "                \"metodo\": \"2FA\",\n",
    "                \"codigo_enviado\": \"true\"\n",
    "            },\n",
    "            \"cuenta_destino_web\": {\n",
    "                \"numero_cuenta_web\": \"0987654321\",\n",
    "                \"banco_web\": \"Banco Destino\",\n",
    "                \"titular_web\": \"Maria López\"\n",
    "            }\n",
    "        }\n",
    "    }\n",
    "\n",
    "def generate_atm_data():\n",
    "    return {\n",
    "        \"transaccion\": {\n",
    "            \"id_transaccion\": generate_id_random(),\n",
    "            \"fecha\": random_date().isoformat() + \"Z\",\n",
    "            \"tipo\": \"Retiro\",\n",
    "            \"monto\": round(random.uniform(10, 1000),2),\n",
    "            \"moneda\": \"USD\",\n",
    "            \"estado\": \"Completada\",\n",
    "            \"descripcion\": random.choice([\"Retiro en ATM-Cta.Ahorro\", \"Retiro en ATM-Cta.Corriente\"]),\n",
    "            \"canal\": \"ATM\",\n",
    "            \"ubicacion_atm\": {\n",
    "                \"ciudad\": \"Nueva York\",\n",
    "                \"direccion\": \"123 Calle Principal\",\n",
    "                \"codigo_atm\": \"ATM456789\"\n",
    "            },\n",
    "            \"tarjeta\": {\n",
    "                \"numero_tarjeta\": \"1234-****-****-5678\",\n",
    "                \"titular_atm\": \"Carlos Ramírez\"\n",
    "            }\n",
    "        }\n",
    "    }\n"
   ]
  },
  {
   "cell_type": "markdown",
   "metadata": {
    "application/vnd.databricks.v1+cell": {
     "cellMetadata": {},
     "inputWidgets": {},
     "nuid": "44a63c99-740a-4b74-81d1-a0f6d29bd253",
     "showTitle": false,
     "tableResultSettingsMap": {},
     "title": ""
    }
   },
   "source": [
    "######Función para guardar los archivos .json en las carpetas del DBFS para cada canal"
   ]
  },
  {
   "cell_type": "code",
   "execution_count": 0,
   "metadata": {
    "application/vnd.databricks.v1+cell": {
     "cellMetadata": {
      "byteLimit": 2048000,
      "rowLimit": 10000
     },
     "inputWidgets": {},
     "nuid": "21fb77c7-1bce-4f99-a87a-d8cb7cc8a1c3",
     "showTitle": false,
     "tableResultSettingsMap": {},
     "title": ""
    }
   },
   "outputs": [],
   "source": [
    "def save_json_to_dbfs(data, path):\n",
    "    with open(path, 'w') as f:\n",
    "        json.dump(data, f)\n",
    "\n",
    "def generate_and_save_files():\n",
    "    for i in range(1, 1003):\n",
    "        app_data = generate_app_data()\n",
    "        web_data = generate_web_data()\n",
    "        atm_data = generate_atm_data()\n",
    "        \n",
    "        app_path = f\"/dbfs/temp/trx_app/trx_app_{i:04d}.json\"\n",
    "        web_path = f\"/dbfs/temp/trx_web/trx_web_{i:04d}.json\"\n",
    "        atm_path = f\"/dbfs/temp/trx_atm/trx_atm_{i:04d}.json\"\n",
    "        \n",
    "        save_json_to_dbfs(app_data, app_path)\n",
    "        save_json_to_dbfs(web_data, web_path)\n",
    "        save_json_to_dbfs(atm_data, atm_path)\n",
    "\n",
    "generate_and_save_files()"
   ]
  },
  {
   "cell_type": "code",
   "execution_count": 0,
   "metadata": {
    "application/vnd.databricks.v1+cell": {
     "cellMetadata": {
      "byteLimit": 2048000,
      "rowLimit": 10000
     },
     "inputWidgets": {},
     "nuid": "c9700287-a73d-46f5-b17c-6cc23870c3c1",
     "showTitle": false,
     "tableResultSettingsMap": {},
     "title": ""
    }
   },
   "outputs": [
    {
     "output_type": "display_data",
     "data": {
      "text/plain": [
       "{'transaccion': {'id_transaccion': '178742205',\n",
       "  'fecha': '2025-01-16T06:02:57.114262Z',\n",
       "  'tipo': 'Retiro',\n",
       "  'monto': 743.96,\n",
       "  'moneda': 'USD',\n",
       "  'estado': 'Completada',\n",
       "  'descripcion': 'Retiro en ATM-Cta.Corriente',\n",
       "  'canal': 'ATM',\n",
       "  'ubicacion_atm': {'ciudad': 'Nueva York',\n",
       "   'direccion': '123 Calle Principal',\n",
       "   'codigo_atm': 'ATM456789'},\n",
       "  'tarjeta': {'numero_tarjeta': '1234-****-****-5678',\n",
       "   'titular_atm': 'Carlos Ramírez'}}}"
      ]
     },
     "metadata": {},
     "output_type": "display_data"
    }
   ],
   "source": [
    "file_path = \"/dbfs/temp/trx_atm/trx_atm_0001.json\"\n",
    "\n",
    "with open(file_path, 'r') as file:\n",
    "    data = json.load(file)\n",
    "\n",
    "display(data)"
   ]
  }
 ],
 "metadata": {
  "application/vnd.databricks.v1+notebook": {
   "computePreferences": null,
   "dashboards": [],
   "environmentMetadata": {
    "base_environment": "",
    "environment_version": "1"
   },
   "language": "python",
   "notebookMetadata": {
    "pythonIndentUnit": 4
   },
   "notebookName": "Data_Dummy_al_DBFS",
   "widgets": {}
  },
  "language_info": {
   "name": "python"
  }
 },
 "nbformat": 4,
 "nbformat_minor": 0
}