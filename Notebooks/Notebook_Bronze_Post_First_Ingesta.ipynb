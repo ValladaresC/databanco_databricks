{
 "cells": [
  {
   "cell_type": "code",
   "execution_count": 0,
   "metadata": {
    "application/vnd.databricks.v1+cell": {
     "cellMetadata": {},
     "inputWidgets": {},
     "nuid": "efc15016-1d65-4752-848f-5e6a9079f6dc",
     "showTitle": false,
     "tableResultSettingsMap": {},
     "title": ""
    }
   },
   "outputs": [],
   "source": [
    "from pyspark.sql.functions import col, lit, struct, current_timestamp, current_date\n",
    "from pyspark.sql.types import StructType, StructField, StringType, IntegerType, DoubleType, BooleanType"
   ]
  },
  {
   "cell_type": "markdown",
   "metadata": {
    "application/vnd.databricks.v1+cell": {
     "cellMetadata": {},
     "inputWidgets": {},
     "nuid": "0e0babf2-fede-44b8-845f-64e3aba22fc2",
     "showTitle": false,
     "tableResultSettingsMap": {},
     "title": ""
    }
   },
   "source": [
    "####Leyendo todos los archivos .json nuevos que llegaron a las carpetas del DBFS"
   ]
  },
  {
   "cell_type": "code",
   "execution_count": 0,
   "metadata": {
    "application/vnd.databricks.v1+cell": {
     "cellMetadata": {},
     "inputWidgets": {},
     "nuid": "e1065903-c4f0-4fc8-8a4a-58cc2733e44d",
     "showTitle": false,
     "tableResultSettingsMap": {},
     "title": ""
    }
   },
   "outputs": [],
   "source": [
    "app_df = spark.read.json(\"/temp/trx_app/*.json\")\n",
    "web_df = spark.read.json(\"/temp/trx_web/*.json\")\n",
    "atm_df = spark.read.json(\"/temp/trx_atm/*.json\")"
   ]
  },
  {
   "cell_type": "markdown",
   "metadata": {
    "application/vnd.databricks.v1+cell": {
     "cellMetadata": {},
     "inputWidgets": {},
     "nuid": "f797d5be-fa75-4615-9018-a5f746139724",
     "showTitle": false,
     "tableResultSettingsMap": {},
     "title": ""
    }
   },
   "source": [
    "####Completando columnas faltantes en cada df para luego poder ser unidos"
   ]
  },
  {
   "cell_type": "code",
   "execution_count": 0,
   "metadata": {
    "application/vnd.databricks.v1+cell": {
     "cellMetadata": {},
     "inputWidgets": {},
     "nuid": "a2587aac-c0b7-4c19-9de1-ad00164965ea",
     "showTitle": false,
     "tableResultSettingsMap": {},
     "title": ""
    }
   },
   "outputs": [],
   "source": [
    "app_df_agg = app_df.withColumn(\"transaccion\",col(\"transaccion\").withField(\n",
    "                                                                \"detalles_web\",struct(\n",
    "                                                                    lit(\"0.0.0.0\").cast(\"string\").alias(\"ip_origen\"),\n",
    "                                                                    lit(\"\").cast(\"string\").alias(\"navegador\"),\n",
    "                                                                    lit(\"\").cast(\"string\").alias(\"dispositivo\")         \n",
    "                                                                    )\n",
    "                                                                )\n",
    "                    ) \\\n",
    "                    .withColumn(\"transaccion\",col(\"transaccion\").withField(\n",
    "                                                                \"ubicacion_atm\",struct(\n",
    "                                                                    lit(\"\").cast(\"string\").alias(\"ciudad\"), \n",
    "                                                                    lit(\"\").cast(\"string\").alias(\"dirección\"),\n",
    "                                                                    lit(\"\").cast(\"string\").alias(\"codigo_atm\")\n",
    "                                                                    )\n",
    "                                                                )\n",
    "                    ) \\\n",
    "                    .withColumn(\"transaccion\",col(\"transaccion\").withField(\n",
    "                                                                \"tarjeta\",struct(\n",
    "                                                                    lit(\"\").cast(\"string\").alias(\"numero_tarjeta\"),\n",
    "                                                                    lit(\"\").cast(\"string\").alias(\"titular\")\n",
    "                                                                    )\n",
    "                                                                )\n",
    "                    ) \\\n",
    "                    .withColumn(\"transaccion\",col(\"transaccion\").withField(\n",
    "                                                                \"autenticacion\",struct(\n",
    "                                                                    col(\"transaccion.autenticacion.metodo\"),\n",
    "                                                                    col(\"transaccion.autenticacion.exitoso\"),\n",
    "                                                                    lit(\"true\").cast(\"string\").alias(\"codigo_enviado\")\n",
    "                                                                    )\n",
    "                                                                )\n",
    "\n",
    "                    ) \n",
    "\n",
    "web_df_agg = web_df.withColumn(\"transaccion\", col(\"transaccion\").withField(\n",
    "                                                                \"detalles_app\",struct(\n",
    "                                                                    lit(\"\").cast(\"string\").alias(\"dispositivo\"),\n",
    "                                                                    lit(\"\").cast(\"string\").alias(\"sistema_operativo\"),\n",
    "                                                                    lit(\"\").cast(\"string\").alias(\"version_app\")\n",
    "                                                                    )\n",
    "                                                                )\n",
    "                    ) \\\n",
    "                    .withColumn(\"transaccion\", col(\"transaccion\").withField(\n",
    "                                                                \"ubicacion\",struct(\n",
    "                                                                    lit(\"\").cast(\"double\").alias(\"latitud\"),\n",
    "                                                                    lit(\"\").cast(\"double\").alias(\"longitud\")\n",
    "                                                                    )\n",
    "                                                                )\n",
    "                    ) \\\n",
    "                    .withColumn(\"transaccion\",col(\"transaccion\").withField(\n",
    "                                                                \"ubicacion_atm\",struct(\n",
    "                                                                    lit(\"\").cast(\"string\").alias(\"ciudad\"), \n",
    "                                                                    lit(\"\").cast(\"string\").alias(\"dirección\"),\n",
    "                                                                    lit(\"\").cast(\"string\").alias(\"codigo_atm\")\n",
    "                                                                    )\n",
    "                                                                )\n",
    "                    ) \\\n",
    "                    .withColumn(\"transaccion\",col(\"transaccion\").withField(\n",
    "                                                                \"tarjeta\",struct(\n",
    "                                                                    lit(\"\").cast(\"string\").alias(\"numero_tarjeta\"),\n",
    "                                                                    lit(\"\").cast(\"string\").alias(\"titular\")\n",
    "                                                                    )\n",
    "                                                                )\n",
    "                    ) \\\n",
    "                    .withColumn(\"transaccion\",col(\"transaccion\").withField(\n",
    "                                                                \"autenticacion\",struct(\n",
    "                                                                    col(\"transaccion.autenticacion.metodo\"),\n",
    "                                                                    col(\"transaccion.autenticacion.codigo_enviado\"),\n",
    "                                                                    lit(\"true\").cast(\"string\").alias(\"exitoso\")\n",
    "                                                                    )\n",
    "                                                                )\n",
    "                    )\n",
    "\n",
    "atm_df_agg = atm_df.withColumn(\"transaccion\", col(\"transaccion\").withField(\n",
    "                                                                \"detalles_app\",struct(\n",
    "                                                                    lit(\"\").cast(\"string\").alias(\"dispositivo\"),\n",
    "                                                                    lit(\"\").cast(\"string\").alias(\"sistema_operativo\"),\n",
    "                                                                    lit(\"\").cast(\"string\").alias(\"version_app\")\n",
    "                                                                    )\n",
    "                                                                )\n",
    "                    ) \\\n",
    "                    .withColumn(\"transaccion\",col(\"transaccion\").withField(\n",
    "                                                                \"detalles_web\",struct(\n",
    "                                                                    lit(\"0.0.0.0\").cast(\"string\").alias(\"ip_origen\"),\n",
    "                                                                    lit(\"\").cast(\"string\").alias(\"navegador\"),\n",
    "                                                                    lit(\"\").cast(\"string\").alias(\"dispositivo\")         \n",
    "                                                                    )\n",
    "                                                                )\n",
    "                    ) \\\n",
    "                    .withColumn(\"transaccion\", col(\"transaccion\").withField(\n",
    "                                                                \"ubicacion\",struct(\n",
    "                                                                    lit(\"\").cast(\"double\").alias(\"latitud\"),\n",
    "                                                                    lit(\"\").cast(\"double\").alias(\"longitud\")\n",
    "                                                                    )\n",
    "                                                                )\n",
    "                    ) \\\n",
    "                    .withColumn(\"transaccion\", col(\"transaccion\").withField(\n",
    "                                                                \"autenticacion\",struct(\n",
    "                                                                    lit(\"\").cast(\"string\").alias(\"metodo\"),\n",
    "                                                                    lit(\"true\").cast(\"string\").alias(\"exitoso\"),\n",
    "                                                                    lit(\"true\").cast(\"string\").alias(\"codigo_enviado\")\n",
    "                                                                    )\n",
    "                                                                )\n",
    "                    ) \\\n",
    "                    .withColumn(\"transaccion\", col(\"transaccion\").withField(\n",
    "                                                                \"cuenta_destino\",struct(\n",
    "                                                                    lit(\"\").cast(\"string\").alias(\"numero_cuenta\"),\n",
    "                                                                    lit(\"\").cast(\"string\").alias(\"banco\"),\n",
    "                                                                    lit(\"\").cast(\"string\").alias(\"titular\")\n",
    "                                                                    )\n",
    "                                                                )\n",
    "                    )"
   ]
  },
  {
   "cell_type": "markdown",
   "metadata": {
    "application/vnd.databricks.v1+cell": {
     "cellMetadata": {},
     "inputWidgets": {},
     "nuid": "47760298-ffd7-42da-b174-64a3219d148a",
     "showTitle": false,
     "tableResultSettingsMap": {},
     "title": ""
    }
   },
   "source": [
    "####Uniendo cada df en uno solo llamado trx_bronze_df"
   ]
  },
  {
   "cell_type": "code",
   "execution_count": 0,
   "metadata": {
    "application/vnd.databricks.v1+cell": {
     "cellMetadata": {},
     "inputWidgets": {},
     "nuid": "b35e52e8-ffcd-4d6c-9e29-7bfaf71afa1b",
     "showTitle": false,
     "tableResultSettingsMap": {},
     "title": ""
    }
   },
   "outputs": [],
   "source": [
    "trx_bronze_df = app_df_agg.unionByName(web_df_agg, allowMissingColumns=True) \\\n",
    "                          .unionByName(atm_df_agg, allowMissingColumns=True)"
   ]
  },
  {
   "cell_type": "markdown",
   "metadata": {
    "application/vnd.databricks.v1+cell": {
     "cellMetadata": {},
     "inputWidgets": {},
     "nuid": "d2e0a2a4-f0b0-480b-bbab-c8c9d71dd5c1",
     "showTitle": false,
     "tableResultSettingsMap": {},
     "title": ""
    }
   },
   "source": [
    "####Se le agrega las columnas de fecha"
   ]
  },
  {
   "cell_type": "code",
   "execution_count": 0,
   "metadata": {
    "application/vnd.databricks.v1+cell": {
     "cellMetadata": {},
     "inputWidgets": {},
     "nuid": "28052d73-fd27-470c-b243-5d89d7906a51",
     "showTitle": false,
     "tableResultSettingsMap": {},
     "title": ""
    }
   },
   "outputs": [],
   "source": [
    "trx_bronze_df = trx_bronze_df.withColumn(\"fecha_auditoria\", current_date()) \\\n",
    "                            .withColumn(\"timestamp_auditoria\", current_timestamp())"
   ]
  },
  {
   "cell_type": "markdown",
   "metadata": {
    "application/vnd.databricks.v1+cell": {
     "cellMetadata": {},
     "inputWidgets": {},
     "nuid": "58e6999a-7f89-43a7-8756-3800d1ff198b",
     "showTitle": false,
     "tableResultSettingsMap": {},
     "title": ""
    }
   },
   "source": [
    "####Se lee la tabla delta anterior (o la generada en la primera ingesta)"
   ]
  },
  {
   "cell_type": "code",
   "execution_count": 0,
   "metadata": {
    "application/vnd.databricks.v1+cell": {
     "cellMetadata": {},
     "inputWidgets": {},
     "nuid": "f6928152-fdd0-41da-9e33-3c9ced86170e",
     "showTitle": false,
     "tableResultSettingsMap": {},
     "title": ""
    }
   },
   "outputs": [],
   "source": [
    "previous_delta_table_df = spark.read.format(\"delta\").load(\"catalgbanco.capabronze.trx_bronze\")"
   ]
  },
  {
   "cell_type": "markdown",
   "metadata": {
    "application/vnd.databricks.v1+cell": {
     "cellMetadata": {},
     "inputWidgets": {},
     "nuid": "c9acc6da-cdb9-4b09-9963-219661d02f89",
     "showTitle": false,
     "tableResultSettingsMap": {},
     "title": ""
    }
   },
   "source": [
    "####Se une la tabla previa con la tabla nueva"
   ]
  },
  {
   "cell_type": "code",
   "execution_count": 0,
   "metadata": {
    "application/vnd.databricks.v1+cell": {
     "cellMetadata": {},
     "inputWidgets": {},
     "nuid": "d0b40721-a52d-4fe7-9ce4-04dbf52aa550",
     "showTitle": false,
     "tableResultSettingsMap": {},
     "title": ""
    }
   },
   "outputs": [],
   "source": [
    "unioned_table_df = trx_bronze_df.union(previous_delta_table_df)"
   ]
  },
  {
   "cell_type": "markdown",
   "metadata": {
    "application/vnd.databricks.v1+cell": {
     "cellMetadata": {},
     "inputWidgets": {},
     "nuid": "b37cd92f-2499-4373-a1e9-28cde417758c",
     "showTitle": false,
     "tableResultSettingsMap": {},
     "title": ""
    }
   },
   "source": [
    "####Se guarda la tabla resultante en el catalogo y esquema de la capa bronze con el nombre trx_bronze"
   ]
  },
  {
   "cell_type": "code",
   "execution_count": 0,
   "metadata": {
    "application/vnd.databricks.v1+cell": {
     "cellMetadata": {},
     "inputWidgets": {},
     "nuid": "60145d34-2afb-4fb0-856c-ea28859ea15b",
     "showTitle": false,
     "tableResultSettingsMap": {},
     "title": ""
    }
   },
   "outputs": [],
   "source": [
    "unioned_table_df.write.format(\"delta\").mode(\"overwrite\").saveAsTable(\"catalgbanco.capabronze.trx_bronze\")"
   ]
  },
  {
   "cell_type": "markdown",
   "metadata": {
    "application/vnd.databricks.v1+cell": {
     "cellMetadata": {},
     "inputWidgets": {},
     "nuid": "c631ec46-c570-4975-b445-5462e7aafb2c",
     "showTitle": false,
     "tableResultSettingsMap": {},
     "title": ""
    }
   },
   "source": [
    "####Se optimiza la tabla delta"
   ]
  },
  {
   "cell_type": "code",
   "execution_count": 0,
   "metadata": {
    "application/vnd.databricks.v1+cell": {
     "cellMetadata": {},
     "inputWidgets": {},
     "nuid": "f2ae706c-62c1-47ad-96dd-3dd8be01a1bd",
     "showTitle": false,
     "tableResultSettingsMap": {},
     "title": ""
    }
   },
   "outputs": [],
   "source": [
    "spark.sql(\"OPTIMIZE catalgbanco.capabronze.trx_bronze\")"
   ]
  }
 ],
 "metadata": {
  "application/vnd.databricks.v1+notebook": {
   "computePreferences": null,
   "dashboards": [],
   "environmentMetadata": {
    "base_environment": "",
    "environment_version": "1"
   },
   "language": "python",
   "notebookMetadata": {
    "pythonIndentUnit": 4
   },
   "notebookName": "Notebook_Bronze_Post_First_Ingesta",
   "widgets": {}
  },
  "language_info": {
   "name": "python"
  }
 },
 "nbformat": 4,
 "nbformat_minor": 0
}